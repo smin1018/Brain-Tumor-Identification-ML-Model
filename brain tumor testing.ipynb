{
 "cells": [
  {
   "cell_type": "code",
   "execution_count": 17,
   "id": "2cc2ebde",
   "metadata": {},
   "outputs": [
    {
     "name": "stdout",
     "output_type": "stream",
     "text": [
      "1/1 [==============================] - 0s 138ms/step\n",
      "[0]\n"
     ]
    },
    {
     "data": {
      "text/plain": [
       "-1"
      ]
     },
     "execution_count": 17,
     "metadata": {},
     "output_type": "execute_result"
    }
   ],
   "source": [
    "import cv2\n",
    "import tensorflow as tf \n",
    "import numpy as np\n",
    "\n",
    "brightness=180\n",
    "threshold=0.10\n",
    "font=cv2.FONT_HERSHEY_SIMPLEX\n",
    "model=tf.keras.models.load_model('braintumer.h5')\n",
    "\n",
    "#img2=cv2.imread(\"Y11.jpg\")\n",
    "\n",
    "img2=cv2.imread(\"6 no.jpg\")\n",
    "img = np.array(img2)\n",
    "img =cv2.resize(img,(200,200))\n",
    "img = tf.expand_dims(img, axis=0)\n",
    "predict_x=model.predict(img)\n",
    "classindex=np.argmax(predict_x,axis=1)\n",
    "print(classindex)\n",
    "if classindex==[1]:\n",
    "    cv2.putText(img2,'Yes Brain Tumer ',(0,100),1,(0,255,255),3)\n",
    "if classindex==[0]:\n",
    "    cv2.putText(img2,'No Brain Tumer ',(0,100),1,(0,255,255),3)\n",
    "\n",
    "\n",
    "cv2.imshow(\"brain tumer\",img2)\n",
    "cv2.waitKey(1000)\n",
    "\n",
    "\n",
    "  \n",
    "\n",
    "    "
   ]
  },
  {
   "cell_type": "code",
   "execution_count": null,
   "id": "bf232b34",
   "metadata": {},
   "outputs": [],
   "source": []
  }
 ],
 "metadata": {
  "kernelspec": {
   "display_name": "Python 3 (ipykernel)",
   "language": "python",
   "name": "python3"
  },
  "language_info": {
   "codemirror_mode": {
    "name": "ipython",
    "version": 3
   },
   "file_extension": ".py",
   "mimetype": "text/x-python",
   "name": "python",
   "nbconvert_exporter": "python",
   "pygments_lexer": "ipython3",
   "version": "3.9.7"
  }
 },
 "nbformat": 4,
 "nbformat_minor": 5
}
