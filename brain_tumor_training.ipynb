{
  "nbformat": 4,
  "nbformat_minor": 0,
  "metadata": {
    "colab": {
      "provenance": []
    },
    "kernelspec": {
      "name": "python3",
      "display_name": "Python 3"
    },
    "language_info": {
      "name": "python"
    },
    "accelerator": "TPU",
    "gpuClass": "standard"
  },
  "cells": [
    {
      "cell_type": "code",
      "execution_count": 2,
      "metadata": {
        "id": "Kex4z7FZ2-Q0"
      },
      "outputs": [],
      "source": [
        "import keras\n",
        "import tensorflow as tf\n",
        "from keras.preprocessing.image import ImageDataGenerator\n",
        "from tensorflow.keras.optimizers import Adam\n",
        "from tensorflow.keras.optimizers import RMSprop\n",
        "from keras.callbacks import ModelCheckpoint\n",
        "import numpy as np\n",
        "import matplotlib.pyplot as plt"
      ]
    },
    {
      "cell_type": "code",
      "source": [
        "train_data=\"/content/drive/MyDrive/Colab Notebooks/braintumer/train\" \n",
        "vali_data=\"/content/drive/MyDrive/Colab Notebooks/braintumer/val\""
      ],
      "metadata": {
        "id": "VbEdlwm03ERc"
      },
      "execution_count": 3,
      "outputs": []
    },
    {
      "cell_type": "code",
      "source": [
        "from google.colab import drive\n",
        "drive.mount('/content/drive')"
      ],
      "metadata": {
        "id": "KYwpCV-o3fDD"
      },
      "execution_count": null,
      "outputs": []
    },
    {
      "cell_type": "code",
      "source": [
        "training_datagen=ImageDataGenerator(rescale=1./255,\n",
        "                                 fill_mode='nearest')\n",
        "\n",
        "training_data=training_datagen.flow_from_directory(train_data,\n",
        "                                                   target_size=(200,200),\n",
        "                                                   batch_size=10)"
      ],
      "metadata": {
        "colab": {
          "base_uri": "https://localhost:8080/"
        },
        "id": "vnZhONc13H0e",
        "outputId": "43cb79a0-4b19-4a03-e6d9-20f65d88577b"
      },
      "execution_count": 4,
      "outputs": [
        {
          "output_type": "stream",
          "name": "stdout",
          "text": [
            "Found 205 images belonging to 2 classes.\n"
          ]
        }
      ]
    },
    {
      "cell_type": "code",
      "source": [
        "valid_datagen=ImageDataGenerator(rescale=1./255)\n",
        "valid_data=valid_datagen.flow_from_directory(vali_data,\n",
        "                                             target_size=(200,200),\n",
        "                                             batch_size=10)"
      ],
      "metadata": {
        "colab": {
          "base_uri": "https://localhost:8080/"
        },
        "id": "3YmkrjBf3KQ2",
        "outputId": "7294dca1-80fc-4342-edb9-b6aef5feb6f5"
      },
      "execution_count": 5,
      "outputs": [
        {
          "output_type": "stream",
          "name": "stdout",
          "text": [
            "Found 48 images belonging to 2 classes.\n"
          ]
        }
      ]
    },
    {
      "cell_type": "code",
      "source": [
        "model_path='/content/drive/MyDrive/Colab Notebooks/braintumer.h5'\n",
        "checkpoint=ModelCheckpoint(model_path,verbose=1,save_best_only=True,mode='max')\n",
        "callbacks_list=[checkpoint]"
      ],
      "metadata": {
        "id": "QciCZLlt3NAp"
      },
      "execution_count": 6,
      "outputs": []
    },
    {
      "cell_type": "code",
      "source": [
        "model=keras.models.Sequential([\n",
        "                              keras.layers.Conv2D(filters=32,kernel_size=3,input_shape=[200,200,3]),\n",
        "                              keras.layers.MaxPooling2D(pool_size=(2,2)),\n",
        "                              keras.layers.Conv2D(filters=16,kernel_size=3,input_shape=[200,200,3]),\n",
        "                              keras.layers.MaxPooling2D(pool_size=(2,2)),\n",
        "                              keras.layers.Flatten(),\n",
        "                              keras.layers.Dense(units=16,activation='relu'),\n",
        "                              keras.layers.Dropout(0.1),\n",
        "                              keras.layers.Dense(units=16,activation='relu'),\n",
        "                              keras.layers.Dropout(0.1),\n",
        "                              keras.layers.Dense(2,activation='softmax'),\n",
        "])"
      ],
      "metadata": {
        "id": "_2nqjBVM3Qo9"
      },
      "execution_count": 7,
      "outputs": []
    },
    {
      "cell_type": "code",
      "source": [
        "model.compile(optimizer=Adam(learning_rate=0.0001),loss='categorical_crossentropy',metrics=['accuracy'])"
      ],
      "metadata": {
        "id": "ZL_KfRnF3TYe"
      },
      "execution_count": 8,
      "outputs": []
    },
    {
      "cell_type": "code",
      "source": [
        "model.fit(training_data,\n",
        "                   epochs=30,\n",
        "                   validation_data=valid_data,\n",
        "                   callbacks=callbacks_list\n",
        "                   )"
      ],
      "metadata": {
        "colab": {
          "base_uri": "https://localhost:8080/"
        },
        "id": "nSS4Tzy_3VsK",
        "outputId": "86e84329-8202-4da8-c413-637735a50a3c"
      },
      "execution_count": 9,
      "outputs": [
        {
          "output_type": "stream",
          "name": "stdout",
          "text": [
            "Epoch 1/30\n",
            "21/21 [==============================] - ETA: 0s - loss: 0.6341 - accuracy: 0.6537\n",
            "Epoch 1: val_loss improved from -inf to 0.61569, saving model to /content/drive/MyDrive/Colab Notebooks/braintumer.h5\n",
            "21/21 [==============================] - 31s 1s/step - loss: 0.6341 - accuracy: 0.6537 - val_loss: 0.6157 - val_accuracy: 0.7500\n",
            "Epoch 2/30\n",
            "21/21 [==============================] - ETA: 0s - loss: 0.5644 - accuracy: 0.7415\n",
            "Epoch 2: val_loss did not improve from 0.61569\n",
            "21/21 [==============================] - 5s 247ms/step - loss: 0.5644 - accuracy: 0.7415 - val_loss: 0.6002 - val_accuracy: 0.7292\n",
            "Epoch 3/30\n",
            "21/21 [==============================] - ETA: 0s - loss: 0.5137 - accuracy: 0.7902\n",
            "Epoch 3: val_loss did not improve from 0.61569\n",
            "21/21 [==============================] - 7s 318ms/step - loss: 0.5137 - accuracy: 0.7902 - val_loss: 0.5767 - val_accuracy: 0.7292\n",
            "Epoch 4/30\n",
            "21/21 [==============================] - ETA: 0s - loss: 0.5019 - accuracy: 0.7561\n",
            "Epoch 4: val_loss did not improve from 0.61569\n",
            "21/21 [==============================] - 6s 269ms/step - loss: 0.5019 - accuracy: 0.7561 - val_loss: 0.5719 - val_accuracy: 0.7708\n",
            "Epoch 5/30\n",
            "21/21 [==============================] - ETA: 0s - loss: 0.4761 - accuracy: 0.7902\n",
            "Epoch 5: val_loss improved from 0.61569 to 0.61824, saving model to /content/drive/MyDrive/Colab Notebooks/braintumer.h5\n",
            "21/21 [==============================] - 6s 265ms/step - loss: 0.4761 - accuracy: 0.7902 - val_loss: 0.6182 - val_accuracy: 0.7292\n",
            "Epoch 6/30\n",
            "21/21 [==============================] - ETA: 0s - loss: 0.4349 - accuracy: 0.8293\n",
            "Epoch 6: val_loss did not improve from 0.61824\n",
            "21/21 [==============================] - 5s 248ms/step - loss: 0.4349 - accuracy: 0.8293 - val_loss: 0.5291 - val_accuracy: 0.7917\n",
            "Epoch 7/30\n",
            "21/21 [==============================] - ETA: 0s - loss: 0.4200 - accuracy: 0.8488\n",
            "Epoch 7: val_loss did not improve from 0.61824\n",
            "21/21 [==============================] - 5s 247ms/step - loss: 0.4200 - accuracy: 0.8488 - val_loss: 0.5191 - val_accuracy: 0.8333\n",
            "Epoch 8/30\n",
            "21/21 [==============================] - ETA: 0s - loss: 0.3600 - accuracy: 0.8732\n",
            "Epoch 8: val_loss did not improve from 0.61824\n",
            "21/21 [==============================] - 5s 245ms/step - loss: 0.3600 - accuracy: 0.8732 - val_loss: 0.5792 - val_accuracy: 0.7292\n",
            "Epoch 9/30\n",
            "21/21 [==============================] - ETA: 0s - loss: 0.3667 - accuracy: 0.8439\n",
            "Epoch 9: val_loss did not improve from 0.61824\n",
            "21/21 [==============================] - 5s 246ms/step - loss: 0.3667 - accuracy: 0.8439 - val_loss: 0.5116 - val_accuracy: 0.8125\n",
            "Epoch 10/30\n",
            "21/21 [==============================] - ETA: 0s - loss: 0.3210 - accuracy: 0.8878\n",
            "Epoch 10: val_loss did not improve from 0.61824\n",
            "21/21 [==============================] - 5s 247ms/step - loss: 0.3210 - accuracy: 0.8878 - val_loss: 0.4763 - val_accuracy: 0.8125\n",
            "Epoch 11/30\n",
            "21/21 [==============================] - ETA: 0s - loss: 0.2773 - accuracy: 0.9171\n",
            "Epoch 11: val_loss did not improve from 0.61824\n",
            "21/21 [==============================] - 5s 246ms/step - loss: 0.2773 - accuracy: 0.9171 - val_loss: 0.4536 - val_accuracy: 0.8125\n",
            "Epoch 12/30\n",
            "21/21 [==============================] - ETA: 0s - loss: 0.2692 - accuracy: 0.8927\n",
            "Epoch 12: val_loss did not improve from 0.61824\n",
            "21/21 [==============================] - 5s 247ms/step - loss: 0.2692 - accuracy: 0.8927 - val_loss: 0.4517 - val_accuracy: 0.8542\n",
            "Epoch 13/30\n",
            "21/21 [==============================] - ETA: 0s - loss: 0.2478 - accuracy: 0.9220\n",
            "Epoch 13: val_loss did not improve from 0.61824\n",
            "21/21 [==============================] - 5s 248ms/step - loss: 0.2478 - accuracy: 0.9220 - val_loss: 0.4056 - val_accuracy: 0.8333\n",
            "Epoch 14/30\n",
            "21/21 [==============================] - ETA: 0s - loss: 0.2284 - accuracy: 0.9073\n",
            "Epoch 14: val_loss did not improve from 0.61824\n",
            "21/21 [==============================] - 5s 249ms/step - loss: 0.2284 - accuracy: 0.9073 - val_loss: 0.4073 - val_accuracy: 0.8125\n",
            "Epoch 15/30\n",
            "21/21 [==============================] - ETA: 0s - loss: 0.2131 - accuracy: 0.9268\n",
            "Epoch 15: val_loss did not improve from 0.61824\n",
            "21/21 [==============================] - 5s 249ms/step - loss: 0.2131 - accuracy: 0.9268 - val_loss: 0.4496 - val_accuracy: 0.8542\n",
            "Epoch 16/30\n",
            "21/21 [==============================] - ETA: 0s - loss: 0.1859 - accuracy: 0.9366\n",
            "Epoch 16: val_loss did not improve from 0.61824\n",
            "21/21 [==============================] - 5s 249ms/step - loss: 0.1859 - accuracy: 0.9366 - val_loss: 0.4354 - val_accuracy: 0.8750\n",
            "Epoch 17/30\n",
            "21/21 [==============================] - ETA: 0s - loss: 0.1787 - accuracy: 0.9463\n",
            "Epoch 17: val_loss did not improve from 0.61824\n",
            "21/21 [==============================] - 5s 247ms/step - loss: 0.1787 - accuracy: 0.9463 - val_loss: 0.5508 - val_accuracy: 0.7708\n",
            "Epoch 18/30\n",
            "21/21 [==============================] - ETA: 0s - loss: 0.1448 - accuracy: 0.9610\n",
            "Epoch 18: val_loss did not improve from 0.61824\n",
            "21/21 [==============================] - 5s 248ms/step - loss: 0.1448 - accuracy: 0.9610 - val_loss: 0.6065 - val_accuracy: 0.7500\n",
            "Epoch 19/30\n",
            "21/21 [==============================] - ETA: 0s - loss: 0.1497 - accuracy: 0.9415\n",
            "Epoch 19: val_loss did not improve from 0.61824\n",
            "21/21 [==============================] - 5s 246ms/step - loss: 0.1497 - accuracy: 0.9415 - val_loss: 0.4574 - val_accuracy: 0.8750\n",
            "Epoch 20/30\n",
            "21/21 [==============================] - ETA: 0s - loss: 0.1649 - accuracy: 0.9317\n",
            "Epoch 20: val_loss did not improve from 0.61824\n",
            "21/21 [==============================] - 5s 246ms/step - loss: 0.1649 - accuracy: 0.9317 - val_loss: 0.5711 - val_accuracy: 0.7708\n",
            "Epoch 21/30\n",
            "21/21 [==============================] - ETA: 0s - loss: 0.1444 - accuracy: 0.9512\n",
            "Epoch 21: val_loss did not improve from 0.61824\n",
            "21/21 [==============================] - 5s 245ms/step - loss: 0.1444 - accuracy: 0.9512 - val_loss: 0.4600 - val_accuracy: 0.8542\n",
            "Epoch 22/30\n",
            "21/21 [==============================] - ETA: 0s - loss: 0.1382 - accuracy: 0.9463\n",
            "Epoch 22: val_loss did not improve from 0.61824\n",
            "21/21 [==============================] - 5s 247ms/step - loss: 0.1382 - accuracy: 0.9463 - val_loss: 0.5884 - val_accuracy: 0.7917\n",
            "Epoch 23/30\n",
            "21/21 [==============================] - ETA: 0s - loss: 0.1323 - accuracy: 0.9561\n",
            "Epoch 23: val_loss did not improve from 0.61824\n",
            "21/21 [==============================] - 5s 247ms/step - loss: 0.1323 - accuracy: 0.9561 - val_loss: 0.5276 - val_accuracy: 0.8125\n",
            "Epoch 24/30\n",
            "21/21 [==============================] - ETA: 0s - loss: 0.0925 - accuracy: 0.9756\n",
            "Epoch 24: val_loss did not improve from 0.61824\n",
            "21/21 [==============================] - 5s 250ms/step - loss: 0.0925 - accuracy: 0.9756 - val_loss: 0.4936 - val_accuracy: 0.8333\n",
            "Epoch 25/30\n",
            "21/21 [==============================] - ETA: 0s - loss: 0.1234 - accuracy: 0.9610\n",
            "Epoch 25: val_loss did not improve from 0.61824\n",
            "21/21 [==============================] - 5s 249ms/step - loss: 0.1234 - accuracy: 0.9610 - val_loss: 0.6098 - val_accuracy: 0.7708\n",
            "Epoch 26/30\n",
            "21/21 [==============================] - ETA: 0s - loss: 0.1105 - accuracy: 0.9659\n",
            "Epoch 26: val_loss did not improve from 0.61824\n",
            "21/21 [==============================] - 7s 318ms/step - loss: 0.1105 - accuracy: 0.9659 - val_loss: 0.5006 - val_accuracy: 0.8333\n",
            "Epoch 27/30\n",
            "21/21 [==============================] - ETA: 0s - loss: 0.1091 - accuracy: 0.9707\n",
            "Epoch 27: val_loss did not improve from 0.61824\n",
            "21/21 [==============================] - 5s 245ms/step - loss: 0.1091 - accuracy: 0.9707 - val_loss: 0.5646 - val_accuracy: 0.8333\n",
            "Epoch 28/30\n",
            "21/21 [==============================] - ETA: 0s - loss: 0.1167 - accuracy: 0.9561\n",
            "Epoch 28: val_loss did not improve from 0.61824\n",
            "21/21 [==============================] - 5s 247ms/step - loss: 0.1167 - accuracy: 0.9561 - val_loss: 0.5500 - val_accuracy: 0.8333\n",
            "Epoch 29/30\n",
            "21/21 [==============================] - ETA: 0s - loss: 0.1463 - accuracy: 0.9415\n",
            "Epoch 29: val_loss did not improve from 0.61824\n",
            "21/21 [==============================] - 5s 254ms/step - loss: 0.1463 - accuracy: 0.9415 - val_loss: 0.4928 - val_accuracy: 0.8542\n",
            "Epoch 30/30\n",
            "21/21 [==============================] - ETA: 0s - loss: 0.0951 - accuracy: 0.9707\n",
            "Epoch 30: val_loss improved from 0.61824 to 0.61864, saving model to /content/drive/MyDrive/Colab Notebooks/braintumer.h5\n",
            "21/21 [==============================] - 6s 266ms/step - loss: 0.0951 - accuracy: 0.9707 - val_loss: 0.6186 - val_accuracy: 0.8125\n"
          ]
        },
        {
          "output_type": "execute_result",
          "data": {
            "text/plain": [
              "<keras.callbacks.History at 0x7fee3ae3acd0>"
            ]
          },
          "metadata": {},
          "execution_count": 9
        }
      ]
    },
    {
      "cell_type": "code",
      "source": [],
      "metadata": {
        "id": "bjmhPwrX5Ci4"
      },
      "execution_count": null,
      "outputs": []
    }
  ]
}